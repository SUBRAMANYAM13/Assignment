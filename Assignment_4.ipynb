{
  "nbformat": 4,
  "nbformat_minor": 0,
  "metadata": {
    "colab": {
      "name": "Assignment 4.ipynb",
      "provenance": []
    },
    "kernelspec": {
      "name": "python3",
      "display_name": "Python 3"
    },
    "language_info": {
      "name": "python"
    }
  },
  "cells": [
    {
      "cell_type": "code",
      "execution_count": null,
      "metadata": {
        "id": "ooEcRjAPDeca"
      },
      "outputs": [],
      "source": [
        "import numpy as np\n",
        "import pandas as pd\n",
        "from sklearn.model_selection import ShuffleSplit\n",
        "\n",
        "import visuals as vs\n",
        "\n",
        "%matplotlib inline\n",
        "\n",
        "data = pd.read_csv('housing.csv')\n",
        "prices = data['MEDV']\n",
        "features = data.drop('MEDV', axis = 1)\n",
        "    \n",
        "\n",
        "print(\"Boston housing dataset has {} data points with {} variables each.\".format(*data.shape))"
      ]
    },
    {
      "cell_type": "code",
      "source": [
        "np.amin(prices)"
      ],
      "metadata": {
        "id": "OlvJQhI2DumU"
      },
      "execution_count": null,
      "outputs": []
    },
    {
      "cell_type": "code",
      "source": [
        "minimum_price = np.amin(prices)\n",
        "\n",
        "\n",
        "maximum_price = np.amax(prices)\n",
        "\n",
        "\n",
        "mean_price = np.mean(prices)\n",
        "\n",
        "\n",
        "median_price = np.median(prices)\n",
        "\n",
        "\n",
        "std_price = np.std(prices)\n",
        "\n",
        "\n",
        "print(\"Statistics for Boston housing dataset:\\n\")\n",
        "print(\"Minimum price: ${}\".format(minimum_price)) \n",
        "print(\"Maximum price: ${}\".format(maximum_price))\n",
        "print(\"Mean price: ${}\".format(mean_price))\n",
        "print(\"Median price ${}\".format(median_price))\n",
        "print(\"Standard deviation of prices: ${}\".format(std_price))"
      ],
      "metadata": {
        "id": "OT04mOeKDx3H"
      },
      "execution_count": null,
      "outputs": []
    },
    {
      "cell_type": "markdown",
      "source": [
        "**Developing a Model**"
      ],
      "metadata": {
        "id": "ycY1CLl2EDmy"
      }
    },
    {
      "cell_type": "code",
      "source": [
        "from sklearn.metrics import r2_score\n",
        "\n",
        "def performance_metric(y_true, y_predict):\n",
        "    \"\"\" Calculates and returns the performance score between \n",
        "        true and predicted values based on the metric chosen. \"\"\"\n",
        "    \n",
        "    \n",
        "    score = r2_score(y_true, y_predict)\n",
        "    \n",
        "    \n",
        "    return score"
      ],
      "metadata": {
        "id": "LpdsnN6OEGj_"
      },
      "execution_count": null,
      "outputs": []
    },
    {
      "cell_type": "code",
      "source": [
        "from sklearn.model_selection import train_test_split\n",
        "\n",
        "\n",
        "X_train, X_test, y_train, y_test = train_test_split(features, prices, test_size=0.2, random_state = 42)\n",
        "\n",
        "print(\"Training and testing split was successful.\")"
      ],
      "metadata": {
        "id": "v8v3BeJdEL1l"
      },
      "execution_count": null,
      "outputs": []
    },
    {
      "cell_type": "code",
      "source": [
        "vs.ModelLearning(features, prices)"
      ],
      "metadata": {
        "id": "oJHOG1SAEREb"
      },
      "execution_count": null,
      "outputs": []
    },
    {
      "cell_type": "code",
      "source": [
        "vs.ModelComplexity(X_train, y_train)"
      ],
      "metadata": {
        "id": "tG4CzRd7ETTn"
      },
      "execution_count": null,
      "outputs": []
    },
    {
      "cell_type": "code",
      "source": [
        "from sklearn.tree import DecisionTreeRegressor\n",
        "from sklearn.metrics import make_scorer\n",
        "from sklearn.model_selection import GridSearchCV\n",
        "\n",
        "def fit_model(X, y):\n",
        "    \"\"\" Performs grid search over the 'max_depth' parameter for a \n",
        "        decision tree regressor trained on the input data [X, y]. \"\"\"\n",
        "    \n",
        "    \n",
        "    cv_sets = ShuffleSplit(n_splits = 10, test_size = 0.20, random_state = 0)\n",
        "\n",
        "    \n",
        "    regressor = DecisionTreeRegressor()\n",
        "\n",
        "    \n",
        "    params = {'max_depth':[1,2,3,4,5,6,7,8,9,10]}\n",
        "\n",
        "     \n",
        "    scoring_fnc = make_scorer(performance_metric)\n",
        "\n",
        "    \n",
        "    grid = GridSearchCV(estimator=regressor, param_grid=params, scoring=scoring_fnc, cv=cv_sets)\n",
        "\n",
        "    \n",
        "    grid = grid.fit(X, y)\n",
        "\n",
        "    \n",
        "    return grid.best_estimator_"
      ],
      "metadata": {
        "id": "y_TwFeN5EWwD"
      },
      "execution_count": null,
      "outputs": []
    },
    {
      "cell_type": "code",
      "source": [
        "reg = fit_model(X_train, y_train)\n",
        "\n",
        "\n",
        "print(\"Parameter 'max_depth' is {} for the optimal model.\".format(reg.get_params()['max_depth']))"
      ],
      "metadata": {
        "id": "bslDw0GkEmPS"
      },
      "execution_count": null,
      "outputs": []
    },
    {
      "cell_type": "code",
      "source": [
        "client_data = [[5, 17, 15], \n",
        "               [4, 32, 22], \n",
        "               [8, 3, 12]]  \n",
        "\n",
        "for i, price in enumerate(reg.predict(client_data)):\n",
        "    print(\"Predicted selling price for Client {}'s home: ${:,.2f}\".format(i+1, price))"
      ],
      "metadata": {
        "id": "E0YPqZVwErzu"
      },
      "execution_count": null,
      "outputs": []
    },
    {
      "cell_type": "code",
      "source": [
        "vs.PredictTrials(features, prices, fit_model, client_data)"
      ],
      "metadata": {
        "id": "pGmSOWLmEy8y"
      },
      "execution_count": null,
      "outputs": []
    }
  ]
}